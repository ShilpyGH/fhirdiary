{
 "cells": [
  {
   "cell_type": "code",
   "execution_count": 1,
   "metadata": {
    "collapsed": true
   },
   "outputs": [],
   "source": [
    "import os, json"
   ]
  },
  {
   "cell_type": "code",
   "execution_count": 2,
   "metadata": {},
   "outputs": [
    {
     "name": "stdout",
     "output_type": "stream",
     "text": [
      "Read Entries.ipynb  entry.json\r\n"
     ]
    }
   ],
   "source": [
    "ls"
   ]
  },
  {
   "cell_type": "code",
   "execution_count": 20,
   "metadata": {},
   "outputs": [
    {
     "data": {
      "text/plain": [
       "{'entries': [{'author': 'patient',\n",
       "   'date': '2018-01-04',\n",
       "   'entries': {'headache': {'date': '2018-01-04',\n",
       "     'severity': '4',\n",
       "     'time': '18:00'},\n",
       "    'medications': [{'date': '2018-01-04',\n",
       "      'name': 'Sumatriptan 50 mg oral tablet',\n",
       "      'time': '18:00'},\n",
       "     {'date': '2018-01-04',\n",
       "      'name': 'Ibuprofen 200 mg oral tablet',\n",
       "      'time': '18:00'}],\n",
       "    'triggers': [{'date': '2018-01-04',\n",
       "      'name': 'Increased stress',\n",
       "      'time': '18:00'}]},\n",
       "   'id': 'List-6',\n",
       "   'time': '18:00'},\n",
       "  {'author': 'related person',\n",
       "   'cfid': 'cf-1519598197540',\n",
       "   'date': '2018-01-04',\n",
       "   'entries': {'headache': {'date': '2018-01-04',\n",
       "     'severity': '7',\n",
       "     'time': '20:00'}},\n",
       "   'id': 'List-7',\n",
       "   'time': '20:00'},\n",
       "  {'author': 'related person',\n",
       "   'cfid': 'cf-1519603388462',\n",
       "   'date': '2018-01-06',\n",
       "   'entries': {'headache': {'date': '2018-01-06',\n",
       "     'severity': '6',\n",
       "     'time': '19:00'},\n",
       "    'medications': [{'date': '2018-01-06',\n",
       "      'name': 'Metoclopramide hydrochloride 10 mg oral tablet',\n",
       "      'time': '19:00'}]},\n",
       "   'id': 'List-13',\n",
       "   'time': '19:00'}]}"
      ]
     },
     "execution_count": 20,
     "metadata": {},
     "output_type": "execute_result"
    }
   ],
   "source": [
    "with open('example.json') as f:\n",
    "    entry = json.load(f)\n",
    "entry"
   ]
  },
  {
   "cell_type": "code",
   "execution_count": null,
   "metadata": {
    "collapsed": true
   },
   "outputs": [],
   "source": []
  },
  {
   "cell_type": "code",
   "execution_count": null,
   "metadata": {
    "collapsed": true
   },
   "outputs": [],
   "source": []
  },
  {
   "cell_type": "code",
   "execution_count": null,
   "metadata": {
    "collapsed": true
   },
   "outputs": [],
   "source": []
  },
  {
   "cell_type": "code",
   "execution_count": null,
   "metadata": {
    "collapsed": true
   },
   "outputs": [],
   "source": []
  },
  {
   "cell_type": "code",
   "execution_count": null,
   "metadata": {
    "collapsed": true
   },
   "outputs": [],
   "source": [
    "{\"entries\":\n",
    "  [\n",
    "    {\n",
    "      \"author\": \"patient\",\n",
    "      \"date\": \"2018-01-04\",\n",
    "      \"time\": \"18:00\",\n",
    "      \"id\": \"List-6\",\n",
    "      \"cfid\": \"cf-1519597620771\",\n",
    "      \"entries\": [\n",
    "\n",
    "         {\n",
    "            \"type\": \"headache\",\n",
    "            \"date\": \"2018-01-04\",\n",
    "            \"time\": \"18:00\",\n",
    "            \"severity\": \"4\"\n",
    "        }\n",
    "      ]\n",
    "    }\n",
    "  ]\n",
    "}\n"
   ]
  }
 ],
 "metadata": {
  "kernelspec": {
   "display_name": "Python 3",
   "language": "python",
   "name": "python3"
  },
  "language_info": {
   "codemirror_mode": {
    "name": "ipython",
    "version": 3
   },
   "file_extension": ".py",
   "mimetype": "text/x-python",
   "name": "python",
   "nbconvert_exporter": "python",
   "pygments_lexer": "ipython3",
   "version": "3.5.2"
  }
 },
 "nbformat": 4,
 "nbformat_minor": 2
}
