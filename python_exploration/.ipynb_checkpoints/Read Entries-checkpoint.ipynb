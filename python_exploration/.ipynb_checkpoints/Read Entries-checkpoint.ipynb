{
 "cells": [
  {
   "cell_type": "code",
   "execution_count": 1,
   "metadata": {
    "collapsed": true
   },
   "outputs": [],
   "source": [
    "import os, json"
   ]
  },
  {
   "cell_type": "code",
   "execution_count": 2,
   "metadata": {},
   "outputs": [
    {
     "name": "stdout",
     "output_type": "stream",
     "text": [
      "Read Entries.ipynb  entry.json\r\n"
     ]
    }
   ],
   "source": [
    "ls"
   ]
  },
  {
   "cell_type": "code",
   "execution_count": 14,
   "metadata": {},
   "outputs": [
    {
     "data": {
      "text/plain": [
       "{'author': \"Mrs. Julia's Mom\",\n",
       " 'date': '2018-02-8',\n",
       " 'entries': {'headache': {'date': '2018-08-07',\n",
       "   'severity': '6',\n",
       "   'time': '22:06'},\n",
       "  'medications': [{'date': '2018-02-6',\n",
       "    'idx': '0',\n",
       "    'name': 'Ibuprofen 200mg',\n",
       "    'time': '10:06'}],\n",
       "  'triggers': [{'date': '2018-02-8',\n",
       "    'idx': '0',\n",
       "    'name': 'Lack of Sleep',\n",
       "    'time': '10:06'},\n",
       "   {'date': '2018-02-06', 'idx': '1', 'name': 'Light', 'time': '10:07'}]},\n",
       " 'id': 'Entry-1',\n",
       " 'time': '10:06'}"
      ]
     },
     "execution_count": 14,
     "metadata": {},
     "output_type": "execute_result"
    }
   ],
   "source": [
    "with open('entry.json') as f:\n",
    "    entry = json.load(f)\n",
    "entry"
   ]
  },
  {
   "cell_type": "code",
   "execution_count": null,
   "metadata": {
    "collapsed": true
   },
   "outputs": [],
   "source": []
  },
  {
   "cell_type": "code",
   "execution_count": null,
   "metadata": {
    "collapsed": true
   },
   "outputs": [],
   "source": []
  },
  {
   "cell_type": "code",
   "execution_count": null,
   "metadata": {
    "collapsed": true
   },
   "outputs": [],
   "source": []
  },
  {
   "cell_type": "code",
   "execution_count": null,
   "metadata": {
    "collapsed": true
   },
   "outputs": [],
   "source": []
  },
  {
   "cell_type": "code",
   "execution_count": null,
   "metadata": {
    "collapsed": true
   },
   "outputs": [],
   "source": [
    "{\"entries\":\n",
    "  [\n",
    "    {\n",
    "      \"author\": \"patient\",\n",
    "      \"date\": \"2018-01-04\",\n",
    "      \"time\": \"18:00\",\n",
    "      \"id\": \"List-6\",\n",
    "      \"cfid\": \"cf-1519597620771\",\n",
    "      \"entries\": [\n",
    "\n",
    "         {\n",
    "            \"type\": \"headache\",\n",
    "            \"date\": \"2018-01-04\",\n",
    "            \"time\": \"18:00\",\n",
    "            \"severity\": \"4\"\n",
    "        }\n",
    "      ]\n",
    "    }\n",
    "  ]\n",
    "}\n"
   ]
  }
 ],
 "metadata": {
  "kernelspec": {
   "display_name": "Python 3",
   "language": "python",
   "name": "python3"
  },
  "language_info": {
   "codemirror_mode": {
    "name": "ipython",
    "version": 3
   },
   "file_extension": ".py",
   "mimetype": "text/x-python",
   "name": "python",
   "nbconvert_exporter": "python",
   "pygments_lexer": "ipython3",
   "version": "3.5.2"
  }
 },
 "nbformat": 4,
 "nbformat_minor": 2
}
