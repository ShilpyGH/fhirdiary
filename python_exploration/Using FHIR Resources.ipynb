{
 "cells": [
  {
   "cell_type": "code",
   "execution_count": null,
   "metadata": {},
   "outputs": [],
   "source": [
    "#!pip install fhirclient"
   ]
  },
  {
   "cell_type": "code",
   "execution_count": 22,
   "metadata": {},
   "outputs": [],
   "source": [
    "# Import modules and classes for working with FHIR resources\n",
    "from fhirclient import client\n",
    "from fhirclient.models.patient import Patient\n",
    "from fhirclient.models.condition import Condition\n",
    "from fhirclient.models.observation import Observation\n",
    "from fhirclient.models.medicationadministration import MedicationAdministration\n",
    "from fhirclient.models.medicationrequest import MedicationRequest\n",
    "\n",
    "from datetime import datetime\n",
    "from dateutil.relativedelta import relativedelta\n",
    "now = datetime.now()"
   ]
  },
  {
   "cell_type": "code",
   "execution_count": 2,
   "metadata": {},
   "outputs": [],
   "source": [
    "settings = {\n",
    "    'app_id': 'my_web_app',\n",
    "    'api_base': 'http://api-v5-stu3.hspconsortium.org/MigrainApp/open'\n",
    "}\n",
    "smart = client.FHIRClient(settings=settings)\n"
   ]
  },
  {
   "cell_type": "code",
   "execution_count": 5,
   "metadata": {},
   "outputs": [
    {
     "name": "stdout",
     "output_type": "stream",
     "text": [
      "Patient Name: Julie Margaret Doe\n",
      "Patient DOB: 2005-05-04\n"
     ]
    }
   ],
   "source": [
    "#Patient Demographics\n",
    "patient = Patient.read('cf-1519578984350', smart.server)\n",
    "DOB =datetime.strptime(patient.birthDate.isostring, '%Y-%m-%d')\n",
    "print ('Patient Name:',patient.name[0].given[0], patient.name[0].given[1],patient.name[0].family)\n",
    "print ('Patient DOB:', DOB.date())"
   ]
  },
  {
   "cell_type": "code",
   "execution_count": 6,
   "metadata": {},
   "outputs": [
    {
     "data": {
      "text/plain": [
       "{'address': [{'city': 'Salt Lake City',\n",
       "   'line': ['123 Some Place'],\n",
       "   'postalCode': '84103',\n",
       "   'state': 'UT'}],\n",
       " 'birthDate': '2005-05-04',\n",
       " 'gender': 'female',\n",
       " 'id': 'cf-1519578984350',\n",
       " 'identifier': [{'value': 'Pat-1'}],\n",
       " 'meta': {'lastUpdated': '2018-02-26T20:53:56.000+00:00', 'versionId': '1'},\n",
       " 'name': [{'family': 'Doe', 'given': ['Julie', 'Margaret']}],\n",
       " 'resourceType': 'Patient',\n",
       " 'telecom': [{'system': 'phone', 'use': 'home', 'value': '801-123-4567'}],\n",
       " 'text': {'div': '<div xmlns=\"http://www.w3.org/1999/xhtml\"><a name=\"mm\"></a></div>',\n",
       "  'status': 'generated'}}"
      ]
     },
     "execution_count": 6,
     "metadata": {},
     "output_type": "execute_result"
    }
   ],
   "source": [
    "# How is a single patient represented?\n",
    "patient.as_json()"
   ]
  },
  {
   "cell_type": "code",
   "execution_count": 8,
   "metadata": {},
   "outputs": [],
   "source": [
    "# Let's look at a single condition instance\n",
    "cond = Condition.read(\"cf-1519595561149\", smart.server)\n"
   ]
  },
  {
   "cell_type": "code",
   "execution_count": 9,
   "metadata": {},
   "outputs": [
    {
     "data": {
      "text/plain": [
       "{'asserter': {'reference': 'Patient/cf-1519578984350'},\n",
       " 'clinicalStatus': 'active',\n",
       " 'code': {'coding': [{'code': '25064002',\n",
       "    'display': 'Headache',\n",
       "    'system': 'http://snomed.info/sct'}]},\n",
       " 'id': 'cf-1519595561149',\n",
       " 'identifier': [{'value': 'Head-4'}],\n",
       " 'meta': {'lastUpdated': '2018-02-26T20:53:56.000+00:00', 'versionId': '1'},\n",
       " 'onsetDateTime': '2018-01-02T16:00:00.000Z',\n",
       " 'resourceType': 'Condition',\n",
       " 'subject': {'reference': 'Patient/cf-1519578984350'},\n",
       " 'text': {'div': '<div xmlns=\"http://www.w3.org/1999/xhtml\"><a name=\"mm\"></a></div>',\n",
       "  'status': 'generated'},\n",
       " 'verificationStatus': 'confirmed'}"
      ]
     },
     "execution_count": 9,
     "metadata": {},
     "output_type": "execute_result"
    }
   ],
   "source": [
    "cond.as_json()"
   ]
  },
  {
   "cell_type": "code",
   "execution_count": 49,
   "metadata": {},
   "outputs": [
    {
     "name": "stdout",
     "output_type": "stream",
     "text": [
      "10\n"
     ]
    }
   ],
   "source": [
    "# Let's now try searching for all conditions \n",
    "# that have Julie as a patient\n",
    "# TODO: see how we're linking Julie's headaches to her care partner\n",
    "# TODO: Why is this 10?\n",
    "search = Condition.where({\"patient\": 'Patient/cf-1519578984350'})\n",
    "conds = search.perform_resources(smart.server)\n",
    "print(len(conds))"
   ]
  },
  {
   "cell_type": "code",
   "execution_count": 50,
   "metadata": {},
   "outputs": [
    {
     "name": "stdout",
     "output_type": "stream",
     "text": [
      "Resource ID: cf-1519595561149\n",
      "Resource Display: Headache\n",
      "Asserter Reference: Patient/cf-1519578984350\n",
      "Subject reference: Patient/cf-1519578984350\n",
      "Datetime: 2018-01-02T16:00:00Z\n",
      "\n"
     ]
    }
   ],
   "source": [
    "def display_condition(cond):\n",
    "    \"\"\"\n",
    "    A helper function that will print out a\n",
    "    fhirclient.models.condition.Condition\n",
    "    in a more human-readable format\n",
    "    \"\"\"\n",
    "    print(\"Resource ID: {}\".format(cond.id))\n",
    "    print(\"Resource Display: {}\".format(cond.code.coding[0].display))\n",
    "    print(\"Asserter Reference: {}\".format(cond.asserter.reference))\n",
    "    print(\"Subject reference: {}\".format(cond.subject.reference))\n",
    "    print(\"Datetime: {}\".format(cond.onsetDateTime.isostring))\n",
    "    \n",
    "    \n",
    "    print()\n",
    "    #print(cond.as_json())\n",
    "    \n",
    "    \n",
    "display_condition(conds[0])"
   ]
  },
  {
   "cell_type": "code",
   "execution_count": 13,
   "metadata": {},
   "outputs": [
    {
     "name": "stdout",
     "output_type": "stream",
     "text": [
      "5\n"
     ]
    }
   ],
   "source": [
    "# Let's look at the conditions created by Julie's mother\n",
    "search = Condition.where({\"asserter\": 'RelatedPerson/cf-1519579101695'})\n",
    "conds = search.perform_resources(smart.server)\n",
    "print(len(conds))"
   ]
  },
  {
   "cell_type": "markdown",
   "metadata": {},
   "source": [
    "### Let's walk through a couple of use cases"
   ]
  },
  {
   "cell_type": "markdown",
   "metadata": {},
   "source": [
    "## Use Case 1: Pull headache pain severities from server, sort them and graph them\n",
    "\n",
    "Headaches are modeled as `Conditions`, while the pain values are modeled as `Observations`. I'm not sure if they're linked right now, so for now I'm just going to work with the `Observations` (pain levels)"
   ]
  },
  {
   "cell_type": "code",
   "execution_count": 17,
   "metadata": {},
   "outputs": [],
   "source": [
    "# A simple data dictionary\n",
    "data_dict = {\n",
    "    'patient_ref': 'Patient/cf-1519578984350',\n",
    "    'headache_code': '25064002',\n",
    "    'pain_sev_code': 'LA25253-8'\n",
    "}"
   ]
  },
  {
   "cell_type": "code",
   "execution_count": 18,
   "metadata": {},
   "outputs": [],
   "source": [
    "search = Observation.where({'subject': data_dict['patient_ref'],\n",
    "                               'code': data_dict['pain_sev_code']})\n",
    "observations = search.perform_resources(smart.server)\n"
   ]
  },
  {
   "cell_type": "code",
   "execution_count": 19,
   "metadata": {},
   "outputs": [
    {
     "data": {
      "text/plain": [
       "datetime.datetime(2018, 1, 4, 18, 0, tzinfo=<isodate.tzinfo.Utc object at 0x111e2f860>)"
      ]
     },
     "execution_count": 19,
     "metadata": {},
     "output_type": "execute_result"
    }
   ],
   "source": [
    "obs = observations[0]\n",
    "obs.effectiveDateTime.date"
   ]
  },
  {
   "cell_type": "code",
   "execution_count": 20,
   "metadata": {},
   "outputs": [],
   "source": [
    "# Now let's sort these by date\n",
    "observations.sort(key=lambda x:x.effectiveDateTime.date)"
   ]
  },
  {
   "cell_type": "code",
   "execution_count": 52,
   "metadata": {},
   "outputs": [
    {
     "data": {
      "image/png": "[encoded data removed]",
      "text/plain": [
       "<matplotlib.figure.Figure at 0x11280f630>"
      ]
     },
     "metadata": {},
     "output_type": "display_data"
    }
   ],
   "source": [
    "# Now let's plot it\n",
    "import matplotlib.pyplot as plt\n",
    "%matplotlib inline\n",
    "\n",
    "x = range(len(observations))\n",
    "x_labels = [obs.effectiveDateTime.date.strftime(\"%M-%d-%Y\") for obs in observations]\n",
    "x_labels\n",
    "\n",
    "y = [o.valueQuantity.value for o in observations]\n",
    "\n",
    "\n",
    "plt.plot(x, y, marker='.')\n",
    "plt.title(\"Julie's migraine pain levels\")\n",
    "\n",
    "_ = plt.xticks(x, x_labels, rotation=45)\n"
   ]
  },
  {
   "cell_type": "markdown",
   "metadata": {},
   "source": [
    "## Use Case 2: Get the list of the patient's active medications."
   ]
  },
  {
   "cell_type": "code",
   "execution_count": 23,
   "metadata": {},
   "outputs": [
    {
     "name": "stdout",
     "output_type": "stream",
     "text": [
      "7\n"
     ]
    }
   ],
   "source": [
    "search = MedicationRequest.where({'subject': data_dict['patient_ref'],\n",
    "                                   'status': 'active'})\n",
    "med_requests = search.perform_resources(smart.server)\n",
    "print(len(med_requests))"
   ]
  },
  {
   "cell_type": "code",
   "execution_count": 24,
   "metadata": {},
   "outputs": [
    {
     "name": "stdout",
     "output_type": "stream",
     "text": [
      "Riboflavin -- 200mg PO DAILY\n",
      "\n",
      "Ubidecarenone -- 200 mg PO THREE TIMES PER WEEK\n",
      "\n",
      "Divalproex sodium 250mg tablet delayed release -- 1 TAB PO TWICE DAILY\n",
      "\n",
      "Ibuprofen 200 mg oral tablet -- 1 TAB PO THREE TIMES PER WEEK\n",
      "\n",
      "Amitriptyline hydrochloride 50 mg oral tablet -- 1 TAB PO DAILY\n",
      "\n",
      "Metoclopramide hydrochloride 10 mg oral tablet -- 1 TAB PO BID\n",
      "\n",
      "Sumatriptan 50 mg oral tablet -- 1 TAB PO THREE TIMES PER WEEK\n",
      "\n"
     ]
    }
   ],
   "source": [
    "for med in med_requests:\n",
    "    name = med.medicationCodeableConcept.coding[0].display\n",
    "    instructions = med.dosageInstruction[0].text\n",
    "    print('{} -- {}\\n'.format(name, instructions))\n",
    "    "
   ]
  },
  {
   "cell_type": "markdown",
   "metadata": {},
   "source": [
    "## Use Case 3: Take an observation and condition and convert it into an `Entry`-like object that looks like what the front end produces/accepts"
   ]
  },
  {
   "cell_type": "code",
   "execution_count": 25,
   "metadata": {},
   "outputs": [
    {
     "name": "stdout",
     "output_type": "stream",
     "text": [
      "10\n"
     ]
    }
   ],
   "source": [
    "# Query using the subject and code\n",
    "# Headaches are modeled as \"Conditions\n",
    "search = Condition.where({'subject': data_dict['patient_ref'], \n",
    "                            'code': data_dict['headache_code']})\n",
    "headaches = search.perform_resources(smart.server)\n",
    "print(len(headaches))"
   ]
  },
  {
   "cell_type": "code",
   "execution_count": 26,
   "metadata": {},
   "outputs": [
    {
     "name": "stdout",
     "output_type": "stream",
     "text": [
      "2018-01-06 16:00:00+00:00\n",
      "2018-01-06 16:00:00+00:00\n"
     ]
    }
   ],
   "source": [
    "# We're going to naively just connect two that have the same date\n",
    "headache = headaches[1]\n",
    "headache.as_json()\n",
    "\n",
    "for pain_level in observations:\n",
    "    if pain_level.effectiveDateTime.date == headache.onsetDateTime.date:\n",
    "        break\n",
    "print(headache.onsetDateTime.date)\n",
    "print(pain_level.effectiveDateTime.date)\n",
    "    "
   ]
  },
  {
   "cell_type": "markdown",
   "metadata": {},
   "source": [
    "The front-end new entry form as currently designed produces a json object similar to the one found at entry.json:"
   ]
  },
  {
   "cell_type": "code",
   "execution_count": 27,
   "metadata": {},
   "outputs": [
    {
     "data": {
      "text/plain": [
       "{'author': \"Mrs. Julia's Mom\",\n",
       " 'date': '2018-02-8',\n",
       " 'entries': {'comments': 'Julie was in a lot of pain today.',\n",
       "  'headache': {'date': '2018-08-07', 'severity': '6', 'time': '22:06'},\n",
       "  'medications': [{'date': '2018-02-6',\n",
       "    'idx': '0',\n",
       "    'name': 'Ibuprofen 200mg',\n",
       "    'time': '10:06'}],\n",
       "  'triggers': [{'date': '2018-02-8',\n",
       "    'idx': '0',\n",
       "    'name': 'Lack of Sleep',\n",
       "    'time': '10:06'},\n",
       "   {'date': '2018-02-06', 'idx': '1', 'name': 'Light', 'time': '10:07'}]},\n",
       " 'id': 'Entry-1',\n",
       " 'time': '10:06'}"
      ]
     },
     "execution_count": 27,
     "metadata": {},
     "output_type": "execute_result"
    }
   ],
   "source": [
    "import json\n",
    "with open('entry.json') as f:\n",
    "    example = json.load(f)\n",
    "example"
   ]
  },
  {
   "cell_type": "markdown",
   "metadata": {},
   "source": [
    "We're going to create something similar using some of the resources that we've pulled. All that we have right now are headachesand their respective pain levels, so we'll leave the other entries blank (along with some new free text comments)."
   ]
  },
  {
   "cell_type": "code",
   "execution_count": 28,
   "metadata": {},
   "outputs": [
    {
     "data": {
      "text/plain": [
       "{'author': '',\n",
       " 'date': '2018-03-14',\n",
       " 'entries': {'headache': {}, 'medications': [], 'triggers': []},\n",
       " 'id': 'Entry-1',\n",
       " 'time': '19:03'}"
      ]
     },
     "execution_count": 28,
     "metadata": {},
     "output_type": "execute_result"
    }
   ],
   "source": [
    "# Start with an entry with empty fields\n",
    "entry = { 'id': 'Entry-1',\n",
    "         'date': now.strftime('%Y-%m-%d'),\n",
    "         'time': now.strftime('%H:%m'),\n",
    "        'author': '',\n",
    "        'entries': {\n",
    "            'headache': {},\n",
    "            'medications': [],\n",
    "            'triggers': [],\n",
    "        }}\n",
    "entry"
   ]
  },
  {
   "cell_type": "code",
   "execution_count": 29,
   "metadata": {},
   "outputs": [
    {
     "data": {
      "text/plain": [
       "{'author': 'Julie Margaret Doe',\n",
       " 'date': '2018-03-14',\n",
       " 'entries': {'headache': {}, 'medications': [], 'triggers': []},\n",
       " 'id': 'Entry-1',\n",
       " 'time': '19:03'}"
      ]
     },
     "execution_count": 29,
     "metadata": {},
     "output_type": "execute_result"
    }
   ],
   "source": [
    "# Set the author attribute. \n",
    "# We'd eventually want to map clinfhir id's to usernames\n",
    "# We'll do something similar but simple now\n",
    "ref_to_user = {'Patient/cf-1519578984350': 'Julie Margaret Doe'}\n",
    "entry['author'] = ref_to_user[headache.asserter.reference]\n",
    "entry"
   ]
  },
  {
   "cell_type": "code",
   "execution_count": 30,
   "metadata": {},
   "outputs": [],
   "source": [
    "# Let's create some free text\n",
    "entry['entries']['comments'] = \"I was in a lot of pain today. I'm not sure what caused it.\""
   ]
  },
  {
   "cell_type": "code",
   "execution_count": 31,
   "metadata": {},
   "outputs": [
    {
     "data": {
      "text/plain": [
       "{'date': '2018-01-06', 'severity': '2', 'time': '16:00'}"
      ]
     },
     "execution_count": 31,
     "metadata": {},
     "output_type": "execute_result"
    }
   ],
   "source": [
    "# Now let's format our headache\n",
    "headache_entry = {}\n",
    "headache_entry['severity'] = str(pain_level.valueQuantity.value)\n",
    "headache_entry['date'] = datetime.strftime(headache.onsetDateTime.date, '%Y-%m-%d')\n",
    "headache_entry['time'] = datetime.strftime(headache.onsetDateTime.date, '%H:%M')\n",
    "headache_entry"
   ]
  },
  {
   "cell_type": "code",
   "execution_count": 32,
   "metadata": {},
   "outputs": [
    {
     "data": {
      "text/plain": [
       "{'author': 'Julie Margaret Doe',\n",
       " 'date': '2018-03-14',\n",
       " 'entries': {'comments': \"I was in a lot of pain today. I'm not sure what caused it.\",\n",
       "  'headache': {'date': '2018-01-06', 'severity': '2', 'time': '16:00'},\n",
       "  'medications': [],\n",
       "  'triggers': []},\n",
       " 'id': 'Entry-1',\n",
       " 'time': '19:03'}"
      ]
     },
     "execution_count": 32,
     "metadata": {},
     "output_type": "execute_result"
    }
   ],
   "source": [
    "entry['entries']['headache'] = headache_entry\n",
    "entry"
   ]
  },
  {
   "cell_type": "markdown",
   "metadata": {},
   "source": [
    "This now looks pretty similar to what our front end generates. We could hypothetically pass this to our front end through an HTTP POST, but for now we'll just save it to a new file to prove that this works."
   ]
  },
  {
   "cell_type": "code",
   "execution_count": 33,
   "metadata": {},
   "outputs": [],
   "source": [
    "with open('python_entry.json', 'w') as f:\n",
    "    json.dump(entry, f)"
   ]
  },
  {
   "cell_type": "markdown",
   "metadata": {},
   "source": [
    "## Use Case 4: Let's do the reverse: we'll take a json object that was created by the front end and create a fhir resource out of it. Then, can we push it to the server?\n",
    "\n",
    "This will eventually be passed through HTTP, but for now we'll just load it from a file.\n",
    "\n",
    "For simplicity, we'll use the very minimal entry that we just created. In the future we'll add triggers and care partners, etc. For now,  we'll essentially reverse engineer to get it back into the format we need it in."
   ]
  },
  {
   "cell_type": "code",
   "execution_count": 34,
   "metadata": {},
   "outputs": [
    {
     "data": {
      "text/plain": [
       "{'author': 'Julie Margaret Doe',\n",
       " 'date': '2018-03-14',\n",
       " 'entries': {'comments': \"I was in a lot of pain today. I'm not sure what caused it.\",\n",
       "  'headache': {'date': '2018-01-06', 'severity': '2', 'time': '16:00'},\n",
       "  'medications': [],\n",
       "  'triggers': []},\n",
       " 'id': 'Entry-1',\n",
       " 'time': '19:03'}"
      ]
     },
     "execution_count": 34,
     "metadata": {},
     "output_type": "execute_result"
    }
   ],
   "source": [
    "entry"
   ]
  },
  {
   "cell_type": "markdown",
   "metadata": {},
   "source": [
    "First, let's create our Headache resource. A Condition object takes a jsondict to be instantiated"
   ]
  },
  {
   "cell_type": "code",
   "execution_count": 35,
   "metadata": {},
   "outputs": [],
   "source": [
    "# Let's transform our entry into a new dictionary\n",
    "\n",
    "cond_dict = {}\n",
    "\n",
    "# Add an id\n",
    "import random\n",
    "id_num = random.choice(range(1000000)) # Does this matter?\n",
    "cond_dict['id'] = 'cf-{}'.format(id_num)"
   ]
  },
  {
   "cell_type": "code",
   "execution_count": 36,
   "metadata": {},
   "outputs": [
    {
     "data": {
      "text/plain": [
       "{'asserter': {'reference': 'Patient/cf-1519578984350'}, 'id': 'cf-382513'}"
      ]
     },
     "execution_count": 36,
     "metadata": {},
     "output_type": "execute_result"
    }
   ],
   "source": [
    "# We'll start with the author/asserter\n",
    "# Note that this dictionary is just the reverse from above\n",
    "user_to_ref = {'Julie Margaret Doe': 'Patient/cf-1519578984350'}\n",
    "\n",
    "cond_dict['asserter'] = {'reference': user_to_ref[entry['author']]}\n",
    "cond_dict"
   ]
  },
  {
   "cell_type": "code",
   "execution_count": 37,
   "metadata": {},
   "outputs": [
    {
     "data": {
      "text/plain": [
       "{'asserter': {'reference': 'Patient/cf-1519578984350'},\n",
       " 'id': 'cf-382513',\n",
       " 'subject': {'reference': 'Patient/cf-1519578984350'}}"
      ]
     },
     "execution_count": 37,
     "metadata": {},
     "output_type": "execute_result"
    }
   ],
   "source": [
    "cond_dict['subject'] = {'reference': user_to_ref[entry['author']]} \n",
    "cond_dict"
   ]
  },
  {
   "cell_type": "code",
   "execution_count": 38,
   "metadata": {},
   "outputs": [
    {
     "data": {
      "text/plain": [
       "{'asserter': {'reference': 'Patient/cf-1519578984350'},\n",
       " 'id': 'cf-382513',\n",
       " 'onsetDateTime': '2018-01-06T16:00:00.000Z',\n",
       " 'subject': {'reference': 'Patient/cf-1519578984350'}}"
      ]
     },
     "execution_count": 38,
     "metadata": {},
     "output_type": "execute_result"
    }
   ],
   "source": [
    "# Format the date and time\n",
    "# This is a pretty crude way to do this, should do it better\n",
    "dt = '{}T{}:00.000Z'.format(entry['entries']['headache']['date'], entry['entries']['headache']['time'])\n",
    "cond_dict['onsetDateTime'] = dt\n",
    "cond_dict"
   ]
  },
  {
   "cell_type": "code",
   "execution_count": 39,
   "metadata": {},
   "outputs": [
    {
     "name": "stdout",
     "output_type": "stream",
     "text": [
      "<fhirclient.models.condition.Condition object at 0x118ce9fd0>\n",
      "{'id': 'cf-382513', 'asserter': {'reference': 'Patient/cf-1519578984350'}, 'onsetDateTime': '2018-01-06T16:00:00.000Z', 'subject': {'reference': 'Patient/cf-1519578984350'}, 'resourceType': 'Condition'}\n"
     ]
    }
   ],
   "source": [
    "# Now let's initialize an instance of a Condition\n",
    "cond = Condition(cond_dict)\n",
    "print(cond)\n",
    "print(cond.as_json())"
   ]
  },
  {
   "cell_type": "markdown",
   "metadata": {},
   "source": [
    "### Now, let's do the same thing for the Observation (pain severity)"
   ]
  },
  {
   "cell_type": "code",
   "execution_count": 40,
   "metadata": {},
   "outputs": [
    {
     "data": {
      "text/plain": [
       "{'code': {'coding': [{'code': 'LA25253-8',\n",
       "    'display': 'Pain severity 0-10',\n",
       "    'system': 'http://loinc.org'}]},\n",
       " 'id': 'cf-931223',\n",
       " 'status': 'active'}"
      ]
     },
     "execution_count": 40,
     "metadata": {},
     "output_type": "execute_result"
    }
   ],
   "source": [
    "obs_dict = {}\n",
    "# Add an id\n",
    "import random\n",
    "id_num = random.choice(range(1000000)) # Does this range matter?\n",
    "obs_dict['id'] = 'cf-{}'.format(id_num)\n",
    "\n",
    "# Required arguments\n",
    "obs_dict['status'] = 'active'\n",
    "obs_dict['code'] =  {'coding': [{'code': 'LA25253-8', 'display': 'Pain severity 0-10',\n",
    "                     'system': 'http://loinc.org'}]}\n",
    "obs_dict\n"
   ]
  },
  {
   "cell_type": "code",
   "execution_count": 41,
   "metadata": {},
   "outputs": [
    {
     "data": {
      "text/plain": [
       "{'code': {'coding': [{'code': 'LA25253-8',\n",
       "    'display': 'Pain severity 0-10',\n",
       "    'system': 'http://loinc.org'}]},\n",
       " 'id': 'cf-931223',\n",
       " 'performer': [{'reference': 'Patient/cf-1519578984350'}],\n",
       " 'status': 'active',\n",
       " 'subject': {'reference': 'Patient/cf-1519578984350'}}"
      ]
     },
     "execution_count": 41,
     "metadata": {},
     "output_type": "execute_result"
    }
   ],
   "source": [
    "# Instead of 'asserter', this resource has 'performer'\n",
    "# 'performer': [{'reference': 'Patient/cf-1519578984350'}],\n",
    "# Note that for some reason this is a list\n",
    "obs_dict['performer'] = [{'reference': user_to_ref[entry['author']]}]\n",
    "obs_dict\n",
    "\n",
    "obs_dict['subject'] = {'reference': user_to_ref[entry['author']]} \n",
    "obs_dict"
   ]
  },
  {
   "cell_type": "code",
   "execution_count": 42,
   "metadata": {},
   "outputs": [
    {
     "data": {
      "text/plain": [
       "{'code': {'coding': [{'code': 'LA25253-8',\n",
       "    'display': 'Pain severity 0-10',\n",
       "    'system': 'http://loinc.org'}]},\n",
       " 'effectiveDateTime': '2018-01-06T16:00:00.000Z',\n",
       " 'id': 'cf-931223',\n",
       " 'performer': [{'reference': 'Patient/cf-1519578984350'}],\n",
       " 'status': 'active',\n",
       " 'subject': {'reference': 'Patient/cf-1519578984350'}}"
      ]
     },
     "execution_count": 42,
     "metadata": {},
     "output_type": "execute_result"
    }
   ],
   "source": [
    "# Set the effectiveDateTime\n",
    "# Same as the other one\n",
    "dt = '{}T{}:00.000Z'.format(entry['entries']['headache']['date'], entry['entries']['headache']['time'])\n",
    "obs_dict['effectiveDateTime'] = dt\n",
    "obs_dict"
   ]
  },
  {
   "cell_type": "code",
   "execution_count": 43,
   "metadata": {},
   "outputs": [
    {
     "data": {
      "text/plain": [
       "{'code': {'coding': [{'code': 'LA25253-8',\n",
       "    'display': 'Pain severity 0-10',\n",
       "    'system': 'http://loinc.org'}]},\n",
       " 'effectiveDateTime': '2018-01-06T16:00:00.000Z',\n",
       " 'id': 'cf-931223',\n",
       " 'performer': [{'reference': 'Patient/cf-1519578984350'}],\n",
       " 'status': 'active',\n",
       " 'subject': {'reference': 'Patient/cf-1519578984350'},\n",
       " 'valueQuantity': {'value': 2}}"
      ]
     },
     "execution_count": 43,
     "metadata": {},
     "output_type": "execute_result"
    }
   ],
   "source": [
    "#coding': [{'code': 'LA25253-8', 'display': 'Pain severity 0-10', 'system': 'http://loinc.org'}]},\n",
    "obs_dict['valueQuantity'] = {'value':  int(entry['entries']['headache']['severity'])}\n",
    "obs_dict"
   ]
  },
  {
   "cell_type": "markdown",
   "metadata": {},
   "source": [
    "This contains the minimal amount of information that we need. Let's instantiate our Observation"
   ]
  },
  {
   "cell_type": "code",
   "execution_count": 44,
   "metadata": {},
   "outputs": [
    {
     "name": "stdout",
     "output_type": "stream",
     "text": [
      "<fhirclient.models.observation.Observation object at 0x118cdcf28>\n",
      "{'id': 'cf-931223', 'code': {'coding': [{'code': 'LA25253-8', 'display': 'Pain severity 0-10', 'system': 'http://loinc.org'}]}, 'effectiveDateTime': '2018-01-06T16:00:00.000Z', 'performer': [{'reference': 'Patient/cf-1519578984350'}], 'status': 'active', 'subject': {'reference': 'Patient/cf-1519578984350'}, 'valueQuantity': {'value': 2}, 'resourceType': 'Observation'}\n"
     ]
    }
   ],
   "source": [
    "observation = Observation(obs_dict)\n",
    "print(observation)\n",
    "print(observation.as_json())"
   ]
  },
  {
   "cell_type": "code",
   "execution_count": null,
   "metadata": {},
   "outputs": [],
   "source": []
  },
  {
   "cell_type": "markdown",
   "metadata": {},
   "source": [
    "### Now, finally, can we push this to the server?\n",
    "\n",
    "#### Answer: No :( But we're on the right path."
   ]
  },
  {
   "cell_type": "code",
   "execution_count": 45,
   "metadata": {},
   "outputs": [
    {
     "name": "stdout",
     "output_type": "stream",
     "text": [
      "Help on method post_json in module server:\n",
      "\n",
      "post_json(path, resource_json, nosign=False) method of server.FHIRServer instance\n",
      "    Performs a POST of the given JSON, which should represent a\n",
      "    resource, to the given relative path.\n",
      "    \n",
      "    :param str path: The path to append to `base_uri`\n",
      "    :param dict resource_json: The JSON representing the resource\n",
      "    :param bool nosign: If set to True, the request will not be signed\n",
      "    :throws: Exception on HTTP status >= 400\n",
      "    :returns: The response object\n",
      "\n"
     ]
    }
   ],
   "source": [
    "# Takes a destination relative path and a resource json.\n",
    "# What should the relative path be??\n",
    "help(smart.server.post_json)"
   ]
  },
  {
   "cell_type": "code",
   "execution_count": 46,
   "metadata": {},
   "outputs": [
    {
     "data": {
      "text/plain": [
       "False"
      ]
     },
     "execution_count": 46,
     "metadata": {},
     "output_type": "execute_result"
    }
   ],
   "source": [
    "# This should return True if the server is ready to accept new data\n",
    "# So we still have to figure out how to work this\n",
    "smart.server.prepare()"
   ]
  },
  {
   "cell_type": "code",
   "execution_count": null,
   "metadata": {},
   "outputs": [],
   "source": []
  },
  {
   "cell_type": "markdown",
   "metadata": {},
   "source": [
    "## Key Takeaways\n",
    "\n",
    "This notebook is a little sloppy and brute-force. We can go back through and fix it up and make it more robust. However, here are a few things that I think this notebook demonstrates:\n",
    "1. We can pull FHIR resources from HSPC Sandbox.\n",
    "2. We can take the resources that are stored on a remote server and format them in a way that we need to in order to be able to use it for display to the user. We only looked at a few types of resources, but it would be similar.\n",
    "3. We can take data that the user has input and convert it into FHIR-like resources.\n",
    "\n",
    "### Remaining Questions\n",
    "1. **Pushing to the server** - We still don't know how to post. At this point, it's probably worth asking Jacob about, we can show him the last section of this notebook.\n",
    "2. **Backend -> Frontend** - We had manually copied a JSON object from the front end. We need to create an Angular Service that will post the JSON object, as well as a Django API endpoint to accept posts and then do this manual work.\n",
    "3. **Data validation** - pulling the observations yields 10 results, but there are 19 on the HSPC Sandbox server. Why?\n",
    "4. **Data Modeling** - HSPC Sandbox has one patient, 16 observations (pain levels), 7 medication requests, and 19 conditions (headaches and triggers). Brian also created in Excel (and maybe somewhere else?) a number of other resources. We should see what else we can do with them."
   ]
  },
  {
   "cell_type": "code",
   "execution_count": null,
   "metadata": {},
   "outputs": [],
   "source": []
  }
 ],
 "metadata": {
  "anaconda-cloud": {},
  "kernelspec": {
   "display_name": "Python 3",
   "language": "python",
   "name": "python3"
  },
  "language_info": {
   "codemirror_mode": {
    "name": "ipython",
    "version": 3
   },
   "file_extension": ".py",
   "mimetype": "text/x-python",
   "name": "python",
   "nbconvert_exporter": "python",
   "pygments_lexer": "ipython3",
   "version": "3.6.4"
  }
 },
 "nbformat": 4,
 "nbformat_minor": 1
}
