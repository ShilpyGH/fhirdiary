{
 "cells": [
  {
   "cell_type": "code",
   "execution_count": 1,
   "metadata": {
    "collapsed": false
   },
   "outputs": [],
   "source": [
    "from migraine import *\n",
    "from migraine_data import *"
   ]
  },
  {
   "cell_type": "code",
   "execution_count": 2,
   "metadata": {
    "collapsed": true
   },
   "outputs": [],
   "source": [
    "settings = {\n",
    "    'app_id': 'my_web_app',\n",
    "    'api_base': 'http://api-v5-stu3.hspconsortium.org/MigrainApp/open'\n",
    "}\n",
    "smart = client.FHIRClient(settings=settings)\n"
   ]
  },
  {
   "cell_type": "markdown",
   "metadata": {},
   "source": [
    "## Users\n",
    "\n",
    "In our demo scenario, we have two app users:\n",
    "- **Julie Margaret Doe**: A 13-year-old girl who suffers from migraines. Her clinician wants her to be engaged in her care, as well as to to understand how her migraines vary over time and what kind of triggers cause them. To do that, she'll be using our app to track when she has headaches, how severe they are, and what caused them.\n"
   ]
  },
  {
   "cell_type": "code",
   "execution_count": 3,
   "metadata": {
    "collapsed": false
   },
   "outputs": [
    {
     "name": "stdout",
     "output_type": "stream",
     "text": [
      "PATIENT\n",
      "----------------------\n",
      "Name: Julie Margaret Doe\n",
      "Gender: female\n",
      "DOB: 2005-05-04 00:00:00\n",
      "Address: 123 Some Place Salt Lake City UT 84103\n"
     ]
    }
   ],
   "source": [
    "patient = get_user('Julie Margaret Doe', usertype='patient', \n",
    "         server=smart.server)\n",
    "display_user(patient)"
   ]
  },
  {
   "cell_type": "markdown",
   "metadata": {},
   "source": [
    "- **Jane Doe**: Julie's mother. Jane wants to be involved in Julie's care and wants to participate in tracking her migraines. This is especially helpful when Julie is in too much pain to log onto her computer during a headache and log the headache info."
   ]
  },
  {
   "cell_type": "code",
   "execution_count": 4,
   "metadata": {
    "collapsed": false
   },
   "outputs": [
    {
     "name": "stdout",
     "output_type": "stream",
     "text": [
      "CARE PARTNER\n",
      "----------------------\n",
      "Name: Jane Doe\n",
      "Gender: female\n",
      "DOB: 1975-07-06 00:00:00\n",
      "Address: 123 Some Place Salt Lake City UT 84103\n",
      "Relationship: Mother to [Julie Margaret Doe]\n"
     ]
    }
   ],
   "source": [
    "care_partner = get_user('Jane Doe', usertype='care partner',\n",
    "                       server=smart.server)\n",
    "display_user(care_partner)"
   ]
  },
  {
   "cell_type": "markdown",
   "metadata": {},
   "source": [
    "# App Feature #1: Adding Headache Info\n",
    "\n",
    "We wrote a front-end interface using Angular that allows a user to enter information about their headache into a form. This data will then be added to a local database and later pushed to the remote server (EHR).\n",
    "\n",
    "[Add New Headache](http://localhost:4200/)"
   ]
  },
  {
   "cell_type": "markdown",
   "metadata": {},
   "source": [
    "# App Feature #2: Viewing Headache Info\n",
    "In addition to allowing the users to track headache data and send it to the provider, our app will also present this data back to the user in a way that can help them understand how the patient's problems have changed over time.\n",
    "\n",
    "The first variable we track is the pain severities of headaches."
   ]
  },
  {
   "cell_type": "code",
   "execution_count": 5,
   "metadata": {
    "collapsed": false
   },
   "outputs": [
    {
     "name": "stdout",
     "output_type": "stream",
     "text": [
      "00-01-2018: 2/10\n",
      "00-01-2018: 3/10\n",
      "00-03-2018: 0/10\n",
      "00-04-2018: 4/10\n",
      "00-04-2018: 7/10\n",
      "00-06-2018: 5/10\n",
      "00-06-2018: 2/10\n",
      "00-06-2018: 6/10\n",
      "00-06-2018: 8/10\n",
      "00-06-2018: 10/10\n"
     ]
    }
   ],
   "source": [
    "pain_levels = get_pain_levels('Julie Margaret Doe', server=smart.server)\n",
    "display_pain_levels(pain_levels)"
   ]
  },
  {
   "cell_type": "code",
   "execution_count": 6,
   "metadata": {
    "collapsed": false
   },
   "outputs": [
    {
     "data": {
      "image/png": "[encoded data removed]",
      "text/plain": [
       "<matplotlib.figure.Figure at 0x1068a1278>"
      ]
     },
     "metadata": {},
     "output_type": "display_data"
    }
   ],
   "source": [
    "import matplotlib.pyplot as plt\n",
    "%matplotlib inline\n",
    "\n",
    "plot_pain_levels('Julie Margaret Doe', server=smart.server)"
   ]
  },
  {
   "cell_type": "markdown",
   "metadata": {},
   "source": [
    "# App Feature #3: View Headache Triggers"
   ]
  },
  {
   "cell_type": "code",
   "execution_count": 7,
   "metadata": {
    "collapsed": false
   },
   "outputs": [
    {
     "data": {
      "image/png": "[encoded data removed]",
      "text/plain": [
       "<matplotlib.figure.Figure at 0x1068134a8>"
      ]
     },
     "metadata": {},
     "output_type": "display_data"
    }
   ],
   "source": [
    "plot_triggers('Julie Margaret Doe', smart.server)"
   ]
  },
  {
   "cell_type": "markdown",
   "metadata": {},
   "source": [
    "# App Feature #4: Viewing Active Medications"
   ]
  },
  {
   "cell_type": "code",
   "execution_count": 8,
   "metadata": {
    "collapsed": false
   },
   "outputs": [],
   "source": [
    "meds = get_active_medications(patient_name='Julie Margaret Doe', server=smart.server)"
   ]
  },
  {
   "cell_type": "code",
   "execution_count": 9,
   "metadata": {
    "collapsed": false
   },
   "outputs": [
    {
     "name": "stdout",
     "output_type": "stream",
     "text": [
      "1.  Amitriptyline hydrochloride 50 mg oral tablet - 1 TAB PO DAILY\n",
      "2.  Divalproex sodium 250mg tablet delayed release - 1 TAB PO TWICE DAILY\n",
      "3.  Ibuprofen 200 mg oral tablet - 1 TAB PO THREE TIMES PER WEEK\n",
      "4.  Metoclopramide hydrochloride 10 mg oral tablet - 1 TAB PO BID\n",
      "5.  Riboflavin - 200mg PO DAILY\n",
      "6.  Sumatriptan 50 mg oral tablet - 1 TAB PO THREE TIMES PER WEEK\n",
      "7.  Ubidecarenone - 200 mg PO THREE TIMES PER WEEK\n"
     ]
    }
   ],
   "source": [
    "display_medication_list(patient_name='Julie Margaret Doe', server=smart.server)"
   ]
  },
  {
   "cell_type": "markdown",
   "metadata": {},
   "source": [
    "# App Feature #5: Take user input and convert into FHIR Resources\n",
    "\n",
    "We model our entries as FHIR List resources. So we'll take a JSON object that was generated by the front-end and convert it into a List resource that could then be pushed to a server."
   ]
  },
  {
   "cell_type": "code",
   "execution_count": 10,
   "metadata": {
    "collapsed": false
   },
   "outputs": [
    {
     "data": {
      "text/plain": [
       "{'author': 'Jane Doe',\n",
       " 'date': '2018-02-8',\n",
       " 'entries': {'comments': 'Julie was in a lot of pain today.',\n",
       "  'headache': [{'date': '2018-08-07', 'severity': '6', 'time': '22:06'}],\n",
       "  'medications': [{'date': '2018-02-6',\n",
       "    'idx': '0',\n",
       "    'name': 'Ibuprofen 200mg',\n",
       "    'time': '10:06'}],\n",
       "  'triggers': [{'date': '2018-02-8',\n",
       "    'idx': '0',\n",
       "    'name': 'Sleep deprivation',\n",
       "    'time': '10:06'},\n",
       "   {'date': '2018-02-06',\n",
       "    'idx': '1',\n",
       "    'name': 'Photosensitivity',\n",
       "    'time': '10:07'}]},\n",
       " 'id': 'Entry-1',\n",
       " 'time': '10:06'}"
      ]
     },
     "execution_count": 10,
     "metadata": {},
     "output_type": "execute_result"
    }
   ],
   "source": [
    "import json\n",
    "with open('entry.json') as f:\n",
    "    entry = json.load(f)\n",
    "entry"
   ]
  },
  {
   "cell_type": "markdown",
   "metadata": {},
   "source": [
    "Using this oject, we can now create new resources. We'll create one resource for each part of the 'entries' field (except for medications, that's up next), as well as one FHIR List to link them all together. "
   ]
  },
  {
   "cell_type": "code",
   "execution_count": 11,
   "metadata": {
    "collapsed": false
   },
   "outputs": [
    {
     "data": {
      "text/plain": [
       "[<fhirclient.models.condition.Condition at 0x1068ff2e8>,\n",
       " <fhirclient.models.observation.Observation at 0x1068ff278>,\n",
       " <fhirclient.models.condition.Condition at 0x1077922e8>,\n",
       " <fhirclient.models.condition.Condition at 0x107792320>,\n",
       " <fhirclient.models.list.List at 0x107784eb8>]"
      ]
     },
     "execution_count": 11,
     "metadata": {},
     "output_type": "execute_result"
    }
   ],
   "source": [
    "new_resources = create_fhir_list(entry)\n",
    "new_resources"
   ]
  },
  {
   "cell_type": "code",
   "execution_count": 12,
   "metadata": {
    "collapsed": false
   },
   "outputs": [
    {
     "data": {
      "text/plain": [
       "{'date': '2018-02-8T10:06:00.000Z',\n",
       " 'entry': [{'item': {'reference': 'Condition/cf-9493'}},\n",
       "  {'item': {'reference': 'Observation/cf-911877'}},\n",
       "  {'item': {'reference': 'Condition/cf-1273'}},\n",
       "  {'item': {'reference': 'Condition/cf-4428'}}],\n",
       " 'id': 'cf-487055',\n",
       " 'identifier': [{'value': 'List-9969'}],\n",
       " 'meta': {'lastUpdated': '2018-02-8T10:06:00.000Z', 'versionId': '1'},\n",
       " 'mode': 'snapshot',\n",
       " 'resourceType': 'List',\n",
       " 'status': 'current',\n",
       " 'text': {'div': '<div xmlns=\"http://www.w3.org/1999/xhtml\"><a name=\"mm\"></a></div>',\n",
       "  'status': 'generated'}}"
      ]
     },
     "execution_count": 12,
     "metadata": {},
     "output_type": "execute_result"
    }
   ],
   "source": [
    "# Here's a look at what the List resource looks like\n",
    "new_resources[-1].as_json()"
   ]
  },
  {
   "cell_type": "markdown",
   "metadata": {},
   "source": [
    "# Next Steps\n",
    "- **Connect front-end to back-end.** Currently, the input form doesn't really do anything with the data that the user inputs. Eventually we'll need to be able to post from the front-end Angular app to the back-end Django app and save this data to the local database.\n",
    "- **Push to the remote server.** We've shown that we can take data that exists on some remote server (ie., an EHR). Next, we need to do the reverse: take FHIR resources that we've generated from user input and push it to the server."
   ]
  }
 ],
 "metadata": {
  "anaconda-cloud": {},
  "kernelspec": {
   "display_name": "Python 3",
   "language": "python",
   "name": "python3"
  },
  "language_info": {
   "codemirror_mode": {
    "name": "ipython",
    "version": 3
   },
   "file_extension": ".py",
   "mimetype": "text/x-python",
   "name": "python",
   "nbconvert_exporter": "python",
   "pygments_lexer": "ipython3",
   "version": "3.6.0"
  }
 },
 "nbformat": 4,
 "nbformat_minor": 1
}
